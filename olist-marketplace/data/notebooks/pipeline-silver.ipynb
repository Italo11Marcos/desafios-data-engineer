{
 "cells": [
  {
   "cell_type": "markdown",
   "metadata": {
    "application/vnd.databricks.v1+cell": {
     "cellMetadata": {},
     "inputWidgets": {},
     "nuid": "4bbb3033-f4ce-4fde-87ce-8e8228d0c673",
     "showTitle": false,
     "title": ""
    }
   },
   "source": [
    "### Mount to ADLS"
   ]
  },
  {
   "cell_type": "code",
   "execution_count": null,
   "metadata": {
    "application/vnd.databricks.v1+cell": {
     "cellMetadata": {
      "byteLimit": 2048000,
      "rowLimit": 10000
     },
     "inputWidgets": {},
     "nuid": "63837711-da07-4f84-b21e-cf88b0c77af7",
     "showTitle": false,
     "title": ""
    }
   },
   "outputs": [],
   "source": [
    "storageAccountName = \"\"\n",
    "storageAccountAccessKey = \"\"\n",
    "sasToken = \"\"\n",
    "blobContainerName = \"olistmarketplace\"\n",
    "mountPoint = \"/mnt/olistmarketplaceim/\"\n",
    "if not any(mount.mountPoint == mountPoint for mount in dbutils.fs.mounts()):\n",
    "  try:\n",
    "    dbutils.fs.mount(\n",
    "      source = \"wasbs://{}@{}.blob.core.windows.net\".format(blobContainerName, storageAccountName),\n",
    "      mount_point = mountPoint,\n",
    "      #extra_configs = {'fs.azure.account.key.' + storageAccountName + '.blob.core.windows.net': storageAccountAccessKey}\n",
    "      extra_configs = {'fs.azure.sas.' + blobContainerName + '.' + storageAccountName + '.blob.core.windows.net': sasToken}\n",
    "    )\n",
    "    print(\"mount succeeded!\")\n",
    "  except Exception as e:\n",
    "    print(\"mount exception\", e)"
   ]
  },
  {
   "cell_type": "code",
   "execution_count": null,
   "metadata": {
    "application/vnd.databricks.v1+cell": {
     "cellMetadata": {
      "byteLimit": 2048000,
      "rowLimit": 10000
     },
     "inputWidgets": {},
     "nuid": "23f1978d-76b8-4a9e-93e0-f8cfabacf60c",
     "showTitle": false,
     "title": ""
    }
   },
   "outputs": [],
   "source": [
    "import pyspark.sql.functions as F\n",
    "from pyspark.sql import Window\n",
    "from pyspark.sql.types import StringType, IntegerType, TimestampType, DoubleType\n",
    "from pyspark.sql.functions import lit\n",
    "\n",
    "from datetime import datetime"
   ]
  },
  {
   "cell_type": "markdown",
   "metadata": {
    "application/vnd.databricks.v1+cell": {
     "cellMetadata": {},
     "inputWidgets": {},
     "nuid": "4737a70b-4f1c-410a-a859-837920bcbe58",
     "showTitle": false,
     "title": ""
    }
   },
   "source": [
    "### Preparing to Silver\n",
    "\n",
    "- Select all data with most recent date\n",
    "- Select just relevant data"
   ]
  },
  {
   "cell_type": "markdown",
   "metadata": {
    "application/vnd.databricks.v1+cell": {
     "cellMetadata": {},
     "inputWidgets": {},
     "nuid": "ff1df701-ad5c-4ddd-a46d-53032efec7ab",
     "showTitle": false,
     "title": ""
    }
   },
   "source": [
    "### Olist Customer"
   ]
  },
  {
   "cell_type": "code",
   "execution_count": null,
   "metadata": {
    "application/vnd.databricks.v1+cell": {
     "cellMetadata": {
      "byteLimit": 2048000,
      "rowLimit": 10000
     },
     "inputWidgets": {},
     "nuid": "89012c42-6ebf-4e78-86d7-21f8ff953baf",
     "showTitle": false,
     "title": ""
    }
   },
   "outputs": [],
   "source": [
    "df_customers = spark.read.format('parquet').option(\"header\", \"true\").load(\"/mnt/olistmarketplaceim/bronze/customers/\")\n",
    "w = Window.partitionBy('customer_id')\n",
    "df_customers = df_customers.withColumn('maxCarga', F.max('DT_CARGA').over(w))\\\n",
    "    .where(F.col('DT_CARGA') == F.col('maxCarga'))\\\n",
    "    .drop(*['maxCarga','DT_CARGA'])"
   ]
  },
  {
   "cell_type": "markdown",
   "metadata": {
    "application/vnd.databricks.v1+cell": {
     "cellMetadata": {},
     "inputWidgets": {},
     "nuid": "2989c872-074c-4ed9-98e7-4fd7ee79460a",
     "showTitle": false,
     "title": ""
    }
   },
   "source": [
    "### Olist Geolocation"
   ]
  },
  {
   "cell_type": "code",
   "execution_count": null,
   "metadata": {
    "application/vnd.databricks.v1+cell": {
     "cellMetadata": {
      "byteLimit": 2048000,
      "rowLimit": 10000
     },
     "inputWidgets": {},
     "nuid": "695d41ba-7fc9-4431-baf9-8189b5c42e74",
     "showTitle": false,
     "title": ""
    }
   },
   "outputs": [],
   "source": [
    "df_geolocation = spark.read.format('parquet').option(\"header\", \"true\").load(\"/mnt/olistmarketplaceim/bronze/geolocation/\")\n",
    "w = Window.partitionBy('geolocation_state')\n",
    "df_geolocation = df_geolocation.withColumn('maxCarga', F.max('DT_CARGA').over(w))\\\n",
    "    .where(F.col('DT_CARGA') == F.col('maxCarga'))\\\n",
    "    .drop(*['maxCarga','DT_CARGA'])"
   ]
  },
  {
   "cell_type": "markdown",
   "metadata": {
    "application/vnd.databricks.v1+cell": {
     "cellMetadata": {},
     "inputWidgets": {},
     "nuid": "83b73f94-faa4-47df-b796-0043ba7ea7ef",
     "showTitle": false,
     "title": ""
    }
   },
   "source": [
    "### Olist Items"
   ]
  },
  {
   "cell_type": "code",
   "execution_count": null,
   "metadata": {
    "application/vnd.databricks.v1+cell": {
     "cellMetadata": {
      "byteLimit": 2048000,
      "rowLimit": 10000
     },
     "inputWidgets": {},
     "nuid": "ecfa44ee-79c8-4701-a082-10444d4197f7",
     "showTitle": false,
     "title": ""
    }
   },
   "outputs": [],
   "source": [
    "df_items = spark.read.format('parquet').option(\"header\", \"true\").load(\"/mnt/olistmarketplaceim/bronze/items/\")\n",
    "w = Window.partitionBy('order_id')\n",
    "df_items = df_items.withColumn('maxCarga', F.max('DT_CARGA').over(w))\\\n",
    "    .where(F.col('DT_CARGA') == F.col('maxCarga'))\\\n",
    "    .drop(*['maxCarga','DT_CARGA'])"
   ]
  },
  {
   "cell_type": "markdown",
   "metadata": {
    "application/vnd.databricks.v1+cell": {
     "cellMetadata": {},
     "inputWidgets": {},
     "nuid": "be07991f-53bc-4880-b173-66ddd6e161f3",
     "showTitle": false,
     "title": ""
    }
   },
   "source": [
    "### Olist Products"
   ]
  },
  {
   "cell_type": "code",
   "execution_count": null,
   "metadata": {
    "application/vnd.databricks.v1+cell": {
     "cellMetadata": {
      "byteLimit": 2048000,
      "rowLimit": 10000
     },
     "inputWidgets": {},
     "nuid": "8a4ac36a-ffe4-43f3-bd76-1d7dbc445e8f",
     "showTitle": false,
     "title": ""
    }
   },
   "outputs": [],
   "source": [
    "df_products = spark.read.format('parquet').option(\"header\", \"true\").load(\"/mnt/olistmarketplaceim/bronze/products/\")\n",
    "w = Window.partitionBy('product_id')\n",
    "df_products = df_products.withColumn('maxCarga', F.max('DT_CARGA').over(w))\\\n",
    "    .where(F.col('DT_CARGA') == F.col('maxCarga'))\\\n",
    "    .drop(*['maxCarga','DT_CARGA'])\n"
   ]
  },
  {
   "cell_type": "markdown",
   "metadata": {
    "application/vnd.databricks.v1+cell": {
     "cellMetadata": {},
     "inputWidgets": {},
     "nuid": "3faaf5ed-23f8-494e-9731-4129d902ed9c",
     "showTitle": false,
     "title": ""
    }
   },
   "source": [
    "### Olist Orders"
   ]
  },
  {
   "cell_type": "code",
   "execution_count": null,
   "metadata": {
    "application/vnd.databricks.v1+cell": {
     "cellMetadata": {
      "byteLimit": 2048000,
      "rowLimit": 10000
     },
     "inputWidgets": {},
     "nuid": "e2891932-4c98-4035-94fb-fc3715a946d6",
     "showTitle": false,
     "title": ""
    }
   },
   "outputs": [],
   "source": [
    "df_orders = spark.read.format('parquet').option(\"header\", \"true\").load(\"/mnt/olistmarketplaceim/bronze/orders/\")\n",
    "w = Window.partitionBy('order_id')\n",
    "df_orders = df_orders.withColumn('maxCarga', F.max('DT_CARGA').over(w))\\\n",
    "    .where(F.col('DT_CARGA') == F.col('maxCarga'))\\\n",
    "    .drop(*['maxCarga','DT_CARGA'])"
   ]
  },
  {
   "cell_type": "markdown",
   "metadata": {
    "application/vnd.databricks.v1+cell": {
     "cellMetadata": {},
     "inputWidgets": {},
     "nuid": "fd1a4010-55c4-4bb6-b0a0-931ee08fab3f",
     "showTitle": false,
     "title": ""
    }
   },
   "source": [
    "### Olist Payments"
   ]
  },
  {
   "cell_type": "code",
   "execution_count": null,
   "metadata": {
    "application/vnd.databricks.v1+cell": {
     "cellMetadata": {
      "byteLimit": 2048000,
      "rowLimit": 10000
     },
     "inputWidgets": {},
     "nuid": "29d1d070-c9b4-4b89-9a97-6df8ef5e3164",
     "showTitle": false,
     "title": ""
    }
   },
   "outputs": [],
   "source": [
    "df_payments = spark.read.format('parquet').option(\"header\", \"true\").load(\"/mnt/olistmarketplaceim/bronze/payments/\")\n",
    "w = Window.partitionBy('order_id')\n",
    "df_payments = df_payments.withColumn('maxCarga', F.max('DT_CARGA').over(w))\\\n",
    "    .where(F.col('DT_CARGA') == F.col('maxCarga'))\\\n",
    "    .drop(*['maxCarga','DT_CARGA'])"
   ]
  },
  {
   "cell_type": "markdown",
   "metadata": {
    "application/vnd.databricks.v1+cell": {
     "cellMetadata": {},
     "inputWidgets": {},
     "nuid": "825cae64-418c-4820-9d35-17a6e7d95318",
     "showTitle": false,
     "title": ""
    }
   },
   "source": [
    "### Olist Sellers"
   ]
  },
  {
   "cell_type": "code",
   "execution_count": null,
   "metadata": {
    "application/vnd.databricks.v1+cell": {
     "cellMetadata": {
      "byteLimit": 2048000,
      "rowLimit": 10000
     },
     "inputWidgets": {},
     "nuid": "e316b8c1-d221-463b-87eb-151f55d82d05",
     "showTitle": false,
     "title": ""
    }
   },
   "outputs": [],
   "source": [
    "df_sellers = spark.read.format('parquet').option(\"header\", \"true\").load(\"/mnt/olistmarketplaceim/bronze/sellers/\")\n",
    "w = Window.partitionBy('seller_id')\n",
    "df_sellers = df_sellers.withColumn('maxCarga', F.max('DT_CARGA').over(w))\\\n",
    "    .where(F.col('DT_CARGA') == F.col('maxCarga'))\\\n",
    "    .drop(*['maxCarga','DT_CARGA'])"
   ]
  },
  {
   "cell_type": "markdown",
   "metadata": {
    "application/vnd.databricks.v1+cell": {
     "cellMetadata": {},
     "inputWidgets": {},
     "nuid": "437fbc8d-eba3-4c7d-8fa7-fadf23307f18",
     "showTitle": false,
     "title": ""
    }
   },
   "source": [
    "### Olist Reviews"
   ]
  },
  {
   "cell_type": "code",
   "execution_count": null,
   "metadata": {
    "application/vnd.databricks.v1+cell": {
     "cellMetadata": {
      "byteLimit": 2048000,
      "rowLimit": 10000
     },
     "inputWidgets": {},
     "nuid": "c8c9adfb-bf36-4bbe-a073-d137c62f6630",
     "showTitle": false,
     "title": ""
    }
   },
   "outputs": [],
   "source": [
    "df_reviews = spark.read.format('parquet').option(\"header\", \"true\").load(\"/mnt/olistmarketplaceim/bronze/reviews/\")\n",
    "w = Window.partitionBy('review_id')\n",
    "df_reviews = df_reviews.withColumn('maxCarga', F.max('DT_CARGA').over(w))\\\n",
    "    .where(F.col('DT_CARGA') == F.col('maxCarga'))\\\n",
    "    .drop(*['maxCarga','DT_CARGA'])"
   ]
  },
  {
   "cell_type": "markdown",
   "metadata": {
    "application/vnd.databricks.v1+cell": {
     "cellMetadata": {},
     "inputWidgets": {},
     "nuid": "c3386609-2cfd-45ab-82c1-5b40a83a214a",
     "showTitle": false,
     "title": ""
    }
   },
   "source": [
    "### Bronze to Silver"
   ]
  },
  {
   "cell_type": "code",
   "execution_count": null,
   "metadata": {
    "application/vnd.databricks.v1+cell": {
     "cellMetadata": {
      "byteLimit": 2048000,
      "rowLimit": 10000
     },
     "inputWidgets": {},
     "nuid": "09c6ffd1-3569-4bb5-b629-869c16067dac",
     "showTitle": false,
     "title": ""
    }
   },
   "outputs": [],
   "source": [
    "# Join\n",
    "df_big = df_orders.join(df_payments, [\"order_id\"])\\\n",
    "                  .join(df_items, [\"order_id\"])\\\n",
    "                  .join(df_reviews, [\"order_id\"])\\\n",
    "                  .join(df_customers, [\"customer_id\"])\n",
    "\n",
    "df_big = df_big.join(df_products, [\"product_id\"])\n",
    "\n",
    "df_big = df_big.join(df_sellers, [\"seller_id\"])"
   ]
  },
  {
   "cell_type": "code",
   "execution_count": null,
   "metadata": {
    "application/vnd.databricks.v1+cell": {
     "cellMetadata": {
      "byteLimit": 2048000,
      "rowLimit": 10000
     },
     "inputWidgets": {},
     "nuid": "71e74a57-7e91-483d-9604-ba71269fc66a",
     "showTitle": false,
     "title": ""
    }
   },
   "outputs": [],
   "source": [
    "# Cast to right data types\n",
    "df_big_silver = df_big.withColumn(\"order_purchase_timestamp\", F.col(\"order_purchase_timestamp\").cast(TimestampType()))\\\n",
    "    .withColumn(\"order_approved_at\", F.col(\"order_approved_at\").cast(TimestampType()))\\\n",
    "        .withColumn(\"order_delivered_carrier_date\", F.col(\"order_delivered_carrier_date\").cast(TimestampType()))\\\n",
    "            .withColumn(\"order_delivered_customer_date\", F.col(\"order_delivered_customer_date\").cast(TimestampType()))\\\n",
    "                .withColumn(\"order_estimated_delivery_date\", F.col(\"order_estimated_delivery_date\").cast(TimestampType()))\\\n",
    "                    .withColumn(\"payment_installments\", F.col(\"payment_installments\").cast(IntegerType()))\\\n",
    "                        .withColumn(\"payment_value\", F.col(\"payment_value\").cast(DoubleType()))\\\n",
    "                            .withColumn(\"shipping_limit_date\", F.col(\"shipping_limit_date\").cast(TimestampType()))\\\n",
    "                                .withColumn(\"price\", F.col(\"price\").cast(DoubleType()))\\\n",
    "                                    .withColumn(\"freight_value\", F.col(\"freight_value\").cast(DoubleType()))\\\n",
    "                                        .withColumn(\"review_score\", F.col(\"review_score\").cast(IntegerType()))\\\n",
    "                                            .withColumn(\"review_creation_date\", F.col(\"review_creation_date\").cast(TimestampType()))\\\n",
    "                                                .withColumn(\"review_answer_timestamp\", F.col(\"review_answer_timestamp\").cast(TimestampType()))\\\n",
    "                                                    .withColumn(\"customer_zip_code_prefix\", F.col(\"customer_zip_code_prefix\").cast(IntegerType()))\\\n",
    "                                                        .withColumn(\"product_name_lenght\", F.col(\"product_name_lenght\").cast(IntegerType()))\\\n",
    "                                                            .withColumn(\"product_description_lenght\", F.col(\"product_description_lenght\").cast(IntegerType()))\\\n",
    "                                                                .withColumn(\"product_photos_qty\", F.col(\"product_photos_qty\").cast(IntegerType()))\\\n",
    "                                                                    .withColumn(\"product_weight_g\", F.col(\"product_weight_g\").cast(IntegerType()))\\\n",
    "                                                                        .withColumn(\"product_length_cm\", F.col(\"product_length_cm\").cast(IntegerType()))\\\n",
    "                                                                            .withColumn(\"product_height_cm\", F.col(\"product_height_cm\").cast(IntegerType()))\\\n",
    "                                                                                .withColumn(\"product_width_cm\", F.col(\"product_width_cm\").cast(IntegerType()))\\\n",
    "                                                                                    .withColumn(\"seller_zip_code_prefix\", F.col(\"seller_zip_code_prefix\").cast(IntegerType()))"
   ]
  },
  {
   "cell_type": "code",
   "execution_count": null,
   "metadata": {
    "application/vnd.databricks.v1+cell": {
     "cellMetadata": {
      "byteLimit": 2048000,
      "rowLimit": 10000
     },
     "inputWidgets": {},
     "nuid": "8c7ec02c-8a30-4291-863d-fb816464459b",
     "showTitle": false,
     "title": ""
    }
   },
   "outputs": [
    {
     "name": "stdout",
     "output_type": "stream",
     "text": [
      "root\n",
      " |-- seller_id: string (nullable = true)\n",
      " |-- product_id: string (nullable = true)\n",
      " |-- customer_id: string (nullable = true)\n",
      " |-- order_id: string (nullable = true)\n",
      " |-- order_status: string (nullable = true)\n",
      " |-- order_purchase_timestamp: timestamp (nullable = true)\n",
      " |-- order_approved_at: timestamp (nullable = true)\n",
      " |-- order_delivered_carrier_date: timestamp (nullable = true)\n",
      " |-- order_delivered_customer_date: timestamp (nullable = true)\n",
      " |-- order_estimated_delivery_date: timestamp (nullable = true)\n",
      " |-- payment_sequential: string (nullable = true)\n",
      " |-- payment_type: string (nullable = true)\n",
      " |-- payment_installments: integer (nullable = true)\n",
      " |-- payment_value: double (nullable = true)\n",
      " |-- order_item_id: string (nullable = true)\n",
      " |-- shipping_limit_date: timestamp (nullable = true)\n",
      " |-- price: double (nullable = true)\n",
      " |-- freight_value: double (nullable = true)\n",
      " |-- review_id: string (nullable = true)\n",
      " |-- review_score: integer (nullable = true)\n",
      " |-- review_comment_title: string (nullable = true)\n",
      " |-- review_comment_message: string (nullable = true)\n",
      " |-- review_creation_date: timestamp (nullable = true)\n",
      " |-- review_answer_timestamp: timestamp (nullable = true)\n",
      " |-- customer_unique_id: string (nullable = true)\n",
      " |-- customer_zip_code_prefix: integer (nullable = true)\n",
      " |-- customer_city: string (nullable = true)\n",
      " |-- customer_state: string (nullable = true)\n",
      " |-- product_category_name: string (nullable = true)\n",
      " |-- product_name_lenght: integer (nullable = true)\n",
      " |-- product_description_lenght: integer (nullable = true)\n",
      " |-- product_photos_qty: integer (nullable = true)\n",
      " |-- product_weight_g: integer (nullable = true)\n",
      " |-- product_length_cm: integer (nullable = true)\n",
      " |-- product_height_cm: integer (nullable = true)\n",
      " |-- product_width_cm: integer (nullable = true)\n",
      " |-- seller_zip_code_prefix: integer (nullable = true)\n",
      " |-- seller_city: string (nullable = true)\n",
      " |-- seller_state: string (nullable = true)\n",
      " |-- DT_CARGA: timestamp (nullable = true)\n",
      "\n"
     ]
    }
   ],
   "source": [
    "df_big_silver.printSchema()"
   ]
  },
  {
   "cell_type": "code",
   "execution_count": null,
   "metadata": {
    "application/vnd.databricks.v1+cell": {
     "cellMetadata": {
      "byteLimit": 2048000,
      "rowLimit": 10000
     },
     "inputWidgets": {},
     "nuid": "c528a8bc-df11-48f8-adb5-7dd6afef5bca",
     "showTitle": false,
     "title": ""
    }
   },
   "outputs": [],
   "source": [
    "# Getting datetime now\n",
    "current_dateTime = datetime.now()\n",
    "current_dateTime = current_dateTime.strftime('%Y-%m-%dT%H:%M:%S')"
   ]
  },
  {
   "cell_type": "code",
   "execution_count": null,
   "metadata": {
    "application/vnd.databricks.v1+cell": {
     "cellMetadata": {},
     "inputWidgets": {},
     "nuid": "075c0968-5999-47d7-b131-3415c1adfcc0",
     "showTitle": false,
     "title": ""
    }
   },
   "outputs": [],
   "source": [
    "# Add column with current datetime\n",
    "df_big_silver = df_big_silver.withColumn('DT_CARGA', lit(current_dateTime).cast(TimestampType()))\n",
    "df_geolocation = df_geolocation.withColumn('DT_CARGA', lit(current_dateTime).cast(TimestampType()))"
   ]
  },
  {
   "cell_type": "code",
   "execution_count": null,
   "metadata": {
    "application/vnd.databricks.v1+cell": {
     "cellMetadata": {
      "byteLimit": 2048000,
      "rowLimit": 10000
     },
     "inputWidgets": {},
     "nuid": "8c477e3c-674a-4b90-b6eb-56d6788923a3",
     "showTitle": false,
     "title": ""
    }
   },
   "outputs": [],
   "source": [
    "# Save data in one big table format in silver layer\n",
    "df_big_silver.write.format(\"delta\").save(\"/mnt/olistmarketplaceim/silver/olist_obt/\")"
   ]
  },
  {
   "cell_type": "code",
   "execution_count": null,
   "metadata": {
    "application/vnd.databricks.v1+cell": {
     "cellMetadata": {},
     "inputWidgets": {},
     "nuid": "df3cdd7b-af08-4d84-8bce-71f4e0c2dd60",
     "showTitle": false,
     "title": ""
    }
   },
   "outputs": [],
   "source": [
    "# Save geolocation table in silver layer\n",
    "df_geolocation.write.format(\"delta\").save(\"/mnt/olistmarketplaceim/silver/geolocation/\")"
   ]
  }
 ],
 "metadata": {
  "application/vnd.databricks.v1+notebook": {
   "dashboards": [],
   "environmentMetadata": null,
   "language": "python",
   "notebookMetadata": {
    "pythonIndentUnit": 4
   },
   "notebookName": "pipeline-silver",
   "widgets": {}
  },
  "language_info": {
   "name": "python"
  }
 },
 "nbformat": 4,
 "nbformat_minor": 0
}
