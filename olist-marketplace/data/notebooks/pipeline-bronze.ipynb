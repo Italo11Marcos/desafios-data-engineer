{
 "cells": [
  {
   "cell_type": "markdown",
   "metadata": {
    "application/vnd.databricks.v1+cell": {
     "cellMetadata": {
      "byteLimit": 2048000,
      "rowLimit": 10000
     },
     "inputWidgets": {},
     "nuid": "28826cc9-5ebf-4e78-922f-3b07999e1845",
     "showTitle": false,
     "title": ""
    }
   },
   "source": [
    "### Mount to ADLS"
   ]
  },
  {
   "cell_type": "code",
   "execution_count": null,
   "metadata": {
    "application/vnd.databricks.v1+cell": {
     "cellMetadata": {
      "byteLimit": 2048000,
      "rowLimit": 10000
     },
     "inputWidgets": {},
     "nuid": "32e6bfa5-646d-41f0-94dc-7a0e278dff67",
     "showTitle": false,
     "title": ""
    }
   },
   "outputs": [],
   "source": [
    "storageAccountName = \"\"\n",
    "storageAccountAccessKey = \"\"\n",
    "sasToken = \"\"\n",
    "blobContainerName = \"olistmarketplace\"\n",
    "mountPoint = \"/mnt/olistmarketplaceim/\"\n",
    "if not any(mount.mountPoint == mountPoint for mount in dbutils.fs.mounts()):\n",
    "  try:\n",
    "    dbutils.fs.mount(\n",
    "      source = \"wasbs://{}@{}.blob.core.windows.net\".format(blobContainerName, storageAccountName),\n",
    "      mount_point = mountPoint,\n",
    "      #extra_configs = {'fs.azure.account.key.' + storageAccountName + '.blob.core.windows.net': storageAccountAccessKey}\n",
    "      extra_configs = {'fs.azure.sas.' + blobContainerName + '.' + storageAccountName + '.blob.core.windows.net': sasToken}\n",
    "    )\n",
    "    print(\"mount succeeded!\")\n",
    "  except Exception as e:\n",
    "    print(\"mount exception\", e)"
   ]
  },
  {
   "cell_type": "code",
   "execution_count": null,
   "metadata": {
    "application/vnd.databricks.v1+cell": {
     "cellMetadata": {
      "byteLimit": 2048000,
      "rowLimit": 10000
     },
     "inputWidgets": {},
     "nuid": "0af75eb2-0a1c-4d13-809e-cb84720091f4",
     "showTitle": false,
     "title": ""
    }
   },
   "outputs": [],
   "source": [
    "from datetime import datetime\n",
    "from pyspark.sql.functions import lit"
   ]
  },
  {
   "cell_type": "code",
   "execution_count": null,
   "metadata": {
    "application/vnd.databricks.v1+cell": {
     "cellMetadata": {
      "byteLimit": 2048000,
      "rowLimit": 10000
     },
     "inputWidgets": {},
     "nuid": "fa9a6383-5eef-41a6-8c96-ca73b091366f",
     "showTitle": false,
     "title": ""
    }
   },
   "outputs": [],
   "source": [
    "# Getting datetime now\n",
    "current_dateTime = datetime.now()\n",
    "current_dateTime = current_dateTime.strftime('%Y-%m-%dT%H:%M:%S')\n",
    "current_dateTime"
   ]
  },
  {
   "cell_type": "markdown",
   "metadata": {
    "application/vnd.databricks.v1+cell": {
     "cellMetadata": {
      "byteLimit": 2048000,
      "rowLimit": 10000
     },
     "inputWidgets": {},
     "nuid": "c6aa12e2-6376-437b-8744-7fc5512a9296",
     "showTitle": false,
     "title": ""
    }
   },
   "source": [
    "## Transient -> Bronze"
   ]
  },
  {
   "cell_type": "markdown",
   "metadata": {
    "application/vnd.databricks.v1+cell": {
     "cellMetadata": {
      "byteLimit": 2048000,
      "rowLimit": 10000
     },
     "inputWidgets": {},
     "nuid": "839826ab-2727-42f5-b5e8-8c27d41e7429",
     "showTitle": false,
     "title": ""
    }
   },
   "source": [
    "- Add column 'dt_carga' with current date in dataset"
   ]
  },
  {
   "cell_type": "markdown",
   "metadata": {
    "application/vnd.databricks.v1+cell": {
     "cellMetadata": {
      "byteLimit": 2048000,
      "rowLimit": 10000
     },
     "inputWidgets": {},
     "nuid": "299d363d-e8da-4bc0-9ae5-85e0365911f8",
     "showTitle": false,
     "title": ""
    }
   },
   "source": [
    "### Olist Customers Dataset"
   ]
  },
  {
   "cell_type": "code",
   "execution_count": null,
   "metadata": {
    "application/vnd.databricks.v1+cell": {
     "cellMetadata": {
      "byteLimit": 2048000,
      "rowLimit": 10000
     },
     "inputWidgets": {},
     "nuid": "1cf1539c-5da2-4b6b-aaf2-b535033c9156",
     "showTitle": false,
     "title": ""
    }
   },
   "outputs": [],
   "source": [
    "df_customers = spark.read.format('parquet').option(\"header\", \"true\").load(\"/mnt/olistmarketplaceim/transient/customers/*.parquet\")\n",
    "df_customers = df_customers.withColumn(\"DT_CARGA\", lit(current_dateTime))\n",
    "df_customers.write.mode(\"append\").parquet(f\"/mnt/olistmarketplaceim/bronze/customers/\")"
   ]
  },
  {
   "cell_type": "markdown",
   "metadata": {
    "application/vnd.databricks.v1+cell": {
     "cellMetadata": {
      "byteLimit": 2048000,
      "rowLimit": 10000
     },
     "inputWidgets": {},
     "nuid": "06b725d9-dcb5-4fcf-90ea-401ec7d3eded",
     "showTitle": false,
     "title": ""
    }
   },
   "source": [
    "### Olist Geolocation Dataset"
   ]
  },
  {
   "cell_type": "code",
   "execution_count": null,
   "metadata": {
    "application/vnd.databricks.v1+cell": {
     "cellMetadata": {
      "byteLimit": 2048000,
      "rowLimit": 10000
     },
     "inputWidgets": {},
     "nuid": "87e77e0f-c806-4cfa-837b-6e5da81eec21",
     "showTitle": false,
     "title": ""
    }
   },
   "outputs": [],
   "source": [
    "df_geolocation = spark.read.format('parquet').option(\"header\", \"true\").load(\"/mnt/olistmarketplaceim/transient/geolocation/*.parquet\")\n",
    "df_geolocation = df_geolocation.withColumn(\"DT_CARGA\", lit(current_dateTime))\n",
    "df_geolocation.write.mode(\"append\").parquet(f\"/mnt/olistmarketplaceim/bronze/geolocation/\")"
   ]
  },
  {
   "cell_type": "markdown",
   "metadata": {
    "application/vnd.databricks.v1+cell": {
     "cellMetadata": {
      "byteLimit": 2048000,
      "rowLimit": 10000
     },
     "inputWidgets": {},
     "nuid": "18b70d83-3e42-4fdf-84d4-1bb2e381c39d",
     "showTitle": false,
     "title": ""
    }
   },
   "source": [
    "### Olist Items Dataset"
   ]
  },
  {
   "cell_type": "code",
   "execution_count": null,
   "metadata": {
    "application/vnd.databricks.v1+cell": {
     "cellMetadata": {
      "byteLimit": 2048000,
      "rowLimit": 10000
     },
     "inputWidgets": {},
     "nuid": "e1633e23-3718-4e79-9c74-052efe4c3a78",
     "showTitle": false,
     "title": ""
    }
   },
   "outputs": [],
   "source": [
    "df_items = spark.read.format('parquet').option(\"header\", \"true\").load(\"/mnt/olistmarketplaceim/transient/items/*.parquet\")\n",
    "df_items = df_items.withColumn(\"DT_CARGA\", lit(current_dateTime))\n",
    "df_items.write.mode(\"append\").parquet(f\"/mnt/olistmarketplaceim/bronze/items/\")"
   ]
  },
  {
   "cell_type": "markdown",
   "metadata": {
    "application/vnd.databricks.v1+cell": {
     "cellMetadata": {
      "byteLimit": 2048000,
      "rowLimit": 10000
     },
     "inputWidgets": {},
     "nuid": "8cf2ee8a-f35a-4fa4-b59e-190147d8522d",
     "showTitle": false,
     "title": ""
    }
   },
   "source": [
    "### Olist Orders Dataset"
   ]
  },
  {
   "cell_type": "code",
   "execution_count": null,
   "metadata": {
    "application/vnd.databricks.v1+cell": {
     "cellMetadata": {
      "byteLimit": 2048000,
      "rowLimit": 10000
     },
     "inputWidgets": {},
     "nuid": "8c42c6c6-7bd5-4de0-973d-b69f0f9138fa",
     "showTitle": false,
     "title": ""
    }
   },
   "outputs": [],
   "source": [
    "df_orders = spark.read.format('parquet').option(\"header\", \"true\").load(\"/mnt/olistmarketplaceim/transient/orders/*.parquet\")\n",
    "df_orders = df_orders.withColumn(\"DT_CARGA\", lit(current_dateTime))\n",
    "df_orders.write.mode(\"append\").parquet(f\"/mnt/olistmarketplaceim/bronze/orders/\")"
   ]
  },
  {
   "cell_type": "markdown",
   "metadata": {
    "application/vnd.databricks.v1+cell": {
     "cellMetadata": {
      "byteLimit": 2048000,
      "rowLimit": 10000
     },
     "inputWidgets": {},
     "nuid": "b851a8e3-9081-4702-a703-8f6190319e41",
     "showTitle": false,
     "title": ""
    }
   },
   "source": [
    "### Olist Payments Dataset"
   ]
  },
  {
   "cell_type": "code",
   "execution_count": null,
   "metadata": {
    "application/vnd.databricks.v1+cell": {
     "cellMetadata": {
      "byteLimit": 2048000,
      "rowLimit": 10000
     },
     "inputWidgets": {},
     "nuid": "77280146-0174-4b3e-9947-293736023a19",
     "showTitle": false,
     "title": ""
    }
   },
   "outputs": [],
   "source": [
    "df_payments = spark.read.format('parquet').option(\"header\", \"true\").load(\"/mnt/olistmarketplaceim/transient/payments/*.parquet\")\n",
    "df_payments = df_payments.withColumn(\"DT_CARGA\", lit(current_dateTime))\n",
    "df_payments.write.mode(\"append\").parquet(f\"/mnt/olistmarketplaceim/bronze/payments/\")"
   ]
  },
  {
   "cell_type": "markdown",
   "metadata": {
    "application/vnd.databricks.v1+cell": {
     "cellMetadata": {
      "byteLimit": 2048000,
      "rowLimit": 10000
     },
     "inputWidgets": {},
     "nuid": "7815231a-f3a7-4ab8-9970-61bffe17e4ec",
     "showTitle": false,
     "title": ""
    }
   },
   "source": [
    "### Olist Reviews Dataset"
   ]
  },
  {
   "cell_type": "code",
   "execution_count": null,
   "metadata": {
    "application/vnd.databricks.v1+cell": {
     "cellMetadata": {
      "byteLimit": 2048000,
      "rowLimit": 10000
     },
     "inputWidgets": {},
     "nuid": "0ce66979-c2ff-4b36-82b2-03a4bf78734c",
     "showTitle": false,
     "title": ""
    }
   },
   "outputs": [],
   "source": [
    "df_reviews = spark.read.format('parquet').option(\"header\", \"true\").load(\"/mnt/olistmarketplaceim/transient/reviews/*.parquet\")\n",
    "df_reviews = df_reviews.withColumn(\"DT_CARGA\", lit(current_dateTime))\n",
    "df_reviews.write.mode(\"append\").parquet(f\"/mnt/olistmarketplaceim/bronze/reviews/\")"
   ]
  },
  {
   "cell_type": "markdown",
   "metadata": {
    "application/vnd.databricks.v1+cell": {
     "cellMetadata": {
      "byteLimit": 2048000,
      "rowLimit": 10000
     },
     "inputWidgets": {},
     "nuid": "f6e79dfc-278f-4371-843a-77ac5748b140",
     "showTitle": false,
     "title": ""
    }
   },
   "source": [
    "### Olist Sellers Dataset"
   ]
  },
  {
   "cell_type": "code",
   "execution_count": null,
   "metadata": {
    "application/vnd.databricks.v1+cell": {
     "cellMetadata": {
      "byteLimit": 2048000,
      "rowLimit": 10000
     },
     "inputWidgets": {},
     "nuid": "4d077f58-fb71-4b78-8fae-faba47a84589",
     "showTitle": false,
     "title": ""
    }
   },
   "outputs": [],
   "source": [
    "df_sellers = spark.read.format('parquet').option(\"header\", \"true\").load(\"/mnt/olistmarketplaceim/transient/sellers/*.parquet\")\n",
    "df_sellers = df_sellers.withColumn(\"DT_CARGA\", lit(current_dateTime))\n",
    "df_sellers.write.mode(\"append\").parquet(f\"/mnt/olistmarketplaceim/bronze/sellers/\")"
   ]
  },
  {
   "cell_type": "markdown",
   "metadata": {
    "application/vnd.databricks.v1+cell": {
     "cellMetadata": {},
     "inputWidgets": {},
     "nuid": "6747b7b6-81e6-4a0b-9a74-935bba50bfef",
     "showTitle": false,
     "title": ""
    }
   },
   "source": [
    "### Olist Products Dataset"
   ]
  },
  {
   "cell_type": "code",
   "execution_count": null,
   "metadata": {
    "application/vnd.databricks.v1+cell": {
     "cellMetadata": {},
     "inputWidgets": {},
     "nuid": "f5e17a03-40a4-4274-9060-450a12652421",
     "showTitle": false,
     "title": ""
    }
   },
   "outputs": [],
   "source": [
    "df_products = spark.read.format('parquet').option(\"header\", \"true\").load(\"/mnt/olistmarketplaceim/transient/products/*.parquet\")\n",
    "df_products = df_products.withColumn(\"DT_CARGA\", lit(current_dateTime))\n",
    "df_products.write.mode(\"append\").parquet(f\"/mnt/olistmarketplaceim/bronze/products/\")"
   ]
  },
  {
   "cell_type": "markdown",
   "metadata": {
    "application/vnd.databricks.v1+cell": {
     "cellMetadata": {
      "byteLimit": 2048000,
      "rowLimit": 10000
     },
     "inputWidgets": {},
     "nuid": "3c66accb-471e-44ed-9654-62ff0b59aad3",
     "showTitle": false,
     "title": ""
    }
   },
   "source": [
    "### Delete Transient"
   ]
  },
  {
   "cell_type": "markdown",
   "metadata": {
    "application/vnd.databricks.v1+cell": {
     "cellMetadata": {
      "byteLimit": 2048000,
      "rowLimit": 10000
     },
     "inputWidgets": {},
     "nuid": "6289b5f7-eadf-46a4-94bf-03a2c7dcea2f",
     "showTitle": false,
     "title": ""
    }
   },
   "source": [
    "- Delete all Transient layer"
   ]
  },
  {
   "cell_type": "code",
   "execution_count": null,
   "metadata": {
    "application/vnd.databricks.v1+cell": {
     "cellMetadata": {
      "byteLimit": 2048000,
      "rowLimit": 10000
     },
     "inputWidgets": {},
     "nuid": "0353aad8-2a90-4060-91b5-74795c39c914",
     "showTitle": false,
     "title": ""
    }
   },
   "outputs": [
    {
     "data": {
      "text/plain": [
       "True"
      ]
     },
     "execution_count": 5,
     "metadata": {},
     "output_type": "execute_result"
    }
   ],
   "source": [
    "dbutils.fs.rm(\"/mnt/olistmarketplaceim/transient/\", True)"
   ]
  }
 ],
 "metadata": {
  "application/vnd.databricks.v1+notebook": {
   "dashboards": [],
   "environmentMetadata": null,
   "language": "python",
   "notebookMetadata": {
    "pythonIndentUnit": 4
   },
   "notebookName": "pipeline-bronze",
   "widgets": {}
  },
  "language_info": {
   "name": "python"
  }
 },
 "nbformat": 4,
 "nbformat_minor": 0
}
