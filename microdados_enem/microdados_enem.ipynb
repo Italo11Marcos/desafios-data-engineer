{
 "cells": [
  {
   "cell_type": "code",
   "execution_count": 2,
   "id": "c463d07f-997b-4af9-b7af-ffd75c959506",
   "metadata": {},
   "outputs": [
    {
     "name": "stdout",
     "output_type": "stream",
     "text": [
      "Requirement already satisfied: pyspark in c:\\users\\italo\\documents\\workspace\\python\\microdados_enem\\venv\\lib\\site-packages (3.4.1)\n",
      "Requirement already satisfied: py4j==0.10.9.7 in c:\\users\\italo\\documents\\workspace\\python\\microdados_enem\\venv\\lib\\site-packages (from pyspark) (0.10.9.7)\n"
     ]
    },
    {
     "name": "stderr",
     "output_type": "stream",
     "text": [
      "\n",
      "[notice] A new release of pip available: 22.3.1 -> 23.3.2\n",
      "[notice] To update, run: python.exe -m pip install --upgrade pip\n"
     ]
    }
   ],
   "source": [
    "!pip install pyspark"
   ]
  },
  {
   "cell_type": "code",
   "execution_count": 3,
   "id": "77cb70b4-2ff5-4121-9a38-8eeb8323605b",
   "metadata": {},
   "outputs": [
    {
     "name": "stdout",
     "output_type": "stream",
     "text": [
      "Collecting findspark\n",
      "  Using cached findspark-2.0.1-py2.py3-none-any.whl (4.4 kB)\n",
      "Installing collected packages: findspark\n",
      "Successfully installed findspark-2.0.1\n"
     ]
    },
    {
     "name": "stderr",
     "output_type": "stream",
     "text": [
      "\n",
      "[notice] A new release of pip available: 22.3.1 -> 23.3.2\n",
      "[notice] To update, run: python.exe -m pip install --upgrade pip\n"
     ]
    }
   ],
   "source": [
    "!pip install findspark"
   ]
  },
  {
   "cell_type": "code",
   "execution_count": 4,
   "id": "a8f3cfb0-a017-4371-961c-ec2ff265e192",
   "metadata": {},
   "outputs": [],
   "source": [
    "import pyspark\n",
    "import findspark\n",
    "findspark.init()\n",
    "from pyspark.sql import SparkSession\n",
    "spark = SparkSession.builder.master(\"local[*]\") \\\n",
    "                    .appName('microdados_enem') \\\n",
    "                    .getOrCreate()\n",
    "from pyspark.sql.types import StructType,StructField, StringType, IntegerType"
   ]
  },
  {
   "cell_type": "markdown",
   "id": "6d07cbe6",
   "metadata": {},
   "source": [
    "## Fazendo a leitura do arquivo"
   ]
  },
  {
   "cell_type": "code",
   "execution_count": 5,
   "id": "14971f2e-c082-4a92-88a3-95eb567d7965",
   "metadata": {},
   "outputs": [],
   "source": [
    "df = spark.read.options(header='True', inferSchema='True', delimiter=';') \\\n",
    "  .csv(\"data\\\\MICRODADOS_ENEM_2020.csv\")"
   ]
  },
  {
   "cell_type": "markdown",
   "id": "a104c462",
   "metadata": {},
   "source": [
    "#### Fact Enem"
   ]
  },
  {
   "cell_type": "markdown",
   "id": "fa304339",
   "metadata": {},
   "source": [
    "Cria a tabela fact_enem"
   ]
  },
  {
   "cell_type": "code",
   "execution_count": 6,
   "id": "ef51fe46",
   "metadata": {},
   "outputs": [],
   "source": [
    "enem = df[[\"NU_INSCRICAO\",\n",
    "            \"NU_NOTA_CN\",\n",
    "            \"NU_NOTA_CH\",\n",
    "            \"NU_NOTA_LC\",\n",
    "            \"NU_NOTA_MT\",\n",
    "            \"NU_NOTA_REDACAO\",\n",
    "            \"CO_MUNICIPIO_ESC\",\n",
    "            \"TP_ESCOLA\",\n",
    "            \"TP_SEXO\",\n",
    "            \"TP_COR_RACA\",\n",
    "            \"TP_PRESENCA_CN\",\n",
    "            \"TP_PRESENCA_CH\",\n",
    "            \"TP_PRESENCA_LC\",\n",
    "            \"TP_PRESENCA_MT\",\n",
    "            \"TP_STATUS_REDACAO\"]]"
   ]
  },
  {
   "cell_type": "code",
   "execution_count": 7,
   "id": "8b8b4539",
   "metadata": {},
   "outputs": [],
   "source": [
    "enem.createOrReplaceTempView(\"enem\")"
   ]
  },
  {
   "cell_type": "markdown",
   "id": "d3773114",
   "metadata": {},
   "source": [
    "#### Dim tp_sexo"
   ]
  },
  {
   "cell_type": "markdown",
   "id": "0fe7d456",
   "metadata": {},
   "source": [
    "Cria a tabela dimensão tp_sexo"
   ]
  },
  {
   "cell_type": "code",
   "execution_count": 7,
   "id": "2ea4b314",
   "metadata": {},
   "outputs": [],
   "source": [
    "data = [(\"M\",\"masculino\"),\n",
    "        (\"F\",\"feminino\")]\n",
    "\n",
    "schema = StructType([ \\\n",
    "    StructField(\"ID\",IntegerType(),True), \\\n",
    "    StructField(\"SEXO\",StringType(),True), \\\n",
    "  ])\n",
    "\n",
    "# Create dataframe tp_sexo\n",
    "tp_sexo = spark.createDataFrame(data=data,schema=schema)\n",
    "tp_sexo.createOrReplaceTempView(\"tp_sexo\")"
   ]
  },
  {
   "cell_type": "markdown",
   "id": "75b2dd8c",
   "metadata": {},
   "source": [
    "#### Dim tp_escola"
   ]
  },
  {
   "cell_type": "markdown",
   "id": "3d2aa522",
   "metadata": {},
   "source": [
    "Cria a tabela dimensão tp_escola"
   ]
  },
  {
   "cell_type": "code",
   "execution_count": 8,
   "id": "4a56a79e",
   "metadata": {},
   "outputs": [],
   "source": [
    "data = [(1,\"Sem Resposta\"),\n",
    "        (2,\"Publica\"),\n",
    "        (3, \"Privada\"),\n",
    "        (4, \"Exterior\")]\n",
    "\n",
    "schema = StructType([ \\\n",
    "    StructField(\"ID\",IntegerType(),True), \\\n",
    "    StructField(\"ESCOLA\",StringType(),True), \\\n",
    "  ])\n",
    "\n",
    "# Create dataframe tp_sexo\n",
    "tp_escola = spark.createDataFrame(data=data,schema=schema)\n",
    "tp_escola.createOrReplaceTempView(\"tp_escola\")"
   ]
  },
  {
   "cell_type": "markdown",
   "id": "a4f57c5a",
   "metadata": {},
   "source": [
    "#### Dim tp_cor_raca"
   ]
  },
  {
   "cell_type": "markdown",
   "id": "b7e658f4",
   "metadata": {},
   "source": [
    "Cria a tabela dimensão tp_cor_raca"
   ]
  },
  {
   "cell_type": "code",
   "execution_count": 9,
   "id": "75bf2a9c",
   "metadata": {},
   "outputs": [],
   "source": [
    "data = [(0,\"Sem Resposta\"),\n",
    "        (1,\"Branca\"),\n",
    "        (2, \"Preta\"),\n",
    "        (3, \"Parda\"),\n",
    "        (4, \"Amarela\"),\n",
    "        (5, \"Indigena\")]\n",
    "schema = StructType([ \\\n",
    "    StructField(\"ID\",IntegerType(),True), \\\n",
    "    StructField(\"COR_RACA\",StringType(),True), \\\n",
    "  ])\n",
    "\n",
    "# Create dataframe tp_sexo\n",
    "tp_cor_raca = spark.createDataFrame(data=data,schema=schema)\n",
    "tp_cor_raca.createOrReplaceTempView(\"tp_cor_raca\")"
   ]
  },
  {
   "cell_type": "markdown",
   "id": "d39e3a5c",
   "metadata": {},
   "source": [
    "#### Dim tp_presenca_cn"
   ]
  },
  {
   "cell_type": "markdown",
   "id": "23dfe784",
   "metadata": {},
   "source": [
    "Cria a tabela dimensão tp_presenca_cn"
   ]
  },
  {
   "cell_type": "code",
   "execution_count": 10,
   "id": "d03c2071",
   "metadata": {},
   "outputs": [],
   "source": [
    "data = [(0,\"Faltou\"),\n",
    "        (1,\"Presente\"),\n",
    "        (2, \"Eliminado\")]\n",
    "schema = StructType([ \\\n",
    "    StructField(\"ID\",IntegerType(),True), \\\n",
    "    StructField(\"PRESENCA\",StringType(),True), \\\n",
    "  ])\n",
    "\n",
    "# Create dataframe tp_presenca\n",
    "tp_presenca = spark.createDataFrame(data=data,schema=schema)\n",
    "tp_presenca.createOrReplaceTempView(\"tp_presenca_cn\")"
   ]
  },
  {
   "cell_type": "markdown",
   "id": "e3a17040",
   "metadata": {},
   "source": [
    "#### Dim tp_presenca_ch"
   ]
  },
  {
   "cell_type": "markdown",
   "id": "661cbf9f",
   "metadata": {},
   "source": [
    "Cria a tabela dimensão tp_presenca_ch"
   ]
  },
  {
   "cell_type": "code",
   "execution_count": 11,
   "id": "c8f06dbd",
   "metadata": {},
   "outputs": [],
   "source": [
    "data = [(0,\"Faltou\"),\n",
    "        (1,\"Presente\"),\n",
    "        (2, \"Eliminado\")]\n",
    "schema = StructType([ \\\n",
    "    StructField(\"ID\",IntegerType(),True), \\\n",
    "    StructField(\"PRESENCA\",StringType(),True), \\\n",
    "  ])\n",
    "\n",
    "# Create dataframe tp_presenca\n",
    "tp_presenca = spark.createDataFrame(data=data,schema=schema)\n",
    "tp_presenca.createOrReplaceTempView(\"tp_presenca_ch\")"
   ]
  },
  {
   "cell_type": "markdown",
   "id": "44f6da5a",
   "metadata": {},
   "source": [
    "#### Dim tp_presenca_lc"
   ]
  },
  {
   "cell_type": "markdown",
   "id": "77475324",
   "metadata": {},
   "source": [
    "Cria a tabela dimensão tp_presenca_lc"
   ]
  },
  {
   "cell_type": "code",
   "execution_count": 12,
   "id": "4a730275",
   "metadata": {},
   "outputs": [],
   "source": [
    "data = [(0,\"Faltou\"),\n",
    "        (1,\"Presente\"),\n",
    "        (2, \"Eliminado\")]\n",
    "schema = StructType([ \\\n",
    "    StructField(\"ID\",IntegerType(),True), \\\n",
    "    StructField(\"PRESENCA\",StringType(),True), \\\n",
    "  ])\n",
    "\n",
    "# Create dataframe tp_presenca\n",
    "tp_presenca = spark.createDataFrame(data=data,schema=schema)\n",
    "tp_presenca.createOrReplaceTempView(\"tp_presenca_lc\")"
   ]
  },
  {
   "cell_type": "markdown",
   "id": "d3d2c507",
   "metadata": {},
   "source": [
    "#### Dim tp_presenca_mt"
   ]
  },
  {
   "cell_type": "markdown",
   "id": "13594977",
   "metadata": {},
   "source": [
    "Cria a tabela dimensão tp_presenca_mt"
   ]
  },
  {
   "cell_type": "code",
   "execution_count": 13,
   "id": "3bad470a",
   "metadata": {},
   "outputs": [],
   "source": [
    "data = [(0,\"Faltou\"),\n",
    "        (1,\"Presente\"),\n",
    "        (2, \"Eliminado\")]\n",
    "schema = StructType([ \\\n",
    "    StructField(\"ID\",IntegerType(),True), \\\n",
    "    StructField(\"PRESENCA\",StringType(),True), \\\n",
    "  ])\n",
    "\n",
    "# Create dataframe tp_presenca\n",
    "tp_presenca = spark.createDataFrame(data=data,schema=schema)\n",
    "tp_presenca.createOrReplaceTempView(\"tp_presenca_mt\")"
   ]
  },
  {
   "cell_type": "markdown",
   "id": "b5a9ff08",
   "metadata": {},
   "source": [
    "#### Dim tp_status_redacao"
   ]
  },
  {
   "cell_type": "markdown",
   "id": "38b5f045",
   "metadata": {},
   "source": [
    "Cria a tabela dimensão tp_status_redacao"
   ]
  },
  {
   "cell_type": "code",
   "execution_count": 14,
   "id": "845b9793",
   "metadata": {},
   "outputs": [],
   "source": [
    "data = [(1,\"Sem Problemas\"),\n",
    "        (2,\"Anulada\"),\n",
    "        (3, \"Copia Texto Motivador\"),\n",
    "        (4, \"Em Branco\"),\n",
    "        (6, \"Fuga ao Tema\"),\n",
    "        (7, \"Nao Atendimento Tipo Textual\"),\n",
    "        (8, \"Texto Insuficiente\"),\n",
    "        (9, \"Parte Desconectada\")]\n",
    "schema = StructType([ \\\n",
    "    StructField(\"ID\",IntegerType(),True), \\\n",
    "    StructField(\"STATUS\",StringType(),True), \\\n",
    "  ])\n",
    "\n",
    "# Create dataframe tp_presenca\n",
    "tp_status_redacao = spark.createDataFrame(data=data,schema=schema)\n",
    "tp_status_redacao.createOrReplaceTempView(\"tp_status_redacao\")"
   ]
  },
  {
   "cell_type": "markdown",
   "id": "50519b8a",
   "metadata": {},
   "source": [
    "### Querys"
   ]
  },
  {
   "cell_type": "markdown",
   "id": "151ad504",
   "metadata": {},
   "source": [
    "Cria uma view"
   ]
  },
  {
   "cell_type": "code",
   "execution_count": 15,
   "id": "04f6e28b",
   "metadata": {},
   "outputs": [],
   "source": [
    "queryEnem = \"\"\"\n",
    "select\n",
    "*\n",
    "from (\n",
    "    select\n",
    "    e.NU_INSCRICAO,\n",
    "    e.CO_MUNICIPIO_ESC,\n",
    "    c.COR_RACA,\n",
    "    x.SEXO,\n",
    "    s.ESCOLA,\n",
    "    e.NU_NOTA_CN,\n",
    "    e.NU_NOTA_CH,\n",
    "    e.NU_NOTA_LC,\n",
    "    e.NU_NOTA_MT,\n",
    "    e.NU_NOTA_REDACAO,\n",
    "    round((e.NU_NOTA_CN + e.NU_NOTA_CH + e.NU_NOTA_LC + e.NU_NOTA_MT + e.NU_NOTA_REDACAO) / 5,2) as MEDIA\n",
    "    from enem e\n",
    "    inner join tp_escola s on e.TP_ESCOLA = s.ID\n",
    "    inner join tp_status_redacao r on e.TP_STATUS_REDACAO = r.ID\n",
    "    inner join tp_presenca_cn cn on e.TP_PRESENCA_CN = cn.ID\n",
    "    inner join tp_presenca_ch ch on e.TP_PRESENCA_CH = ch.ID\n",
    "    inner join tp_presenca_lc lc on e.TP_PRESENCA_LC = lc.ID\n",
    "    inner join tp_presenca_mt mt on e.TP_PRESENCA_MT = mt.ID\n",
    "    inner join tp_sexo x on e.TP_SEXO = x.ID\n",
    "    inner join tp_cor_raca c on e.TP_COR_RACA = c.ID\n",
    "    where e.TP_STATUS_REDACAO = 1 and\n",
    "    e.TP_PRESENCA_CN = 1 and\n",
    "    e.TP_PRESENCA_CH = 1 and\n",
    "    e.TP_PRESENCA_LC = 1 and\n",
    "    e.TP_PRESENCA_MT = 1 and\n",
    "    s.ID != 1\n",
    ") e\n",
    "order by MEDIA desc\n",
    "\"\"\""
   ]
  },
  {
   "cell_type": "code",
   "execution_count": 16,
   "id": "1035e62c",
   "metadata": {},
   "outputs": [],
   "source": [
    "vw_enem = spark.sql(queryEnem)"
   ]
  },
  {
   "cell_type": "code",
   "execution_count": 17,
   "id": "20670365",
   "metadata": {},
   "outputs": [],
   "source": [
    "vw_enem.createOrReplaceTempView(\"vw_enem\")"
   ]
  },
  {
   "cell_type": "code",
   "execution_count": 18,
   "id": "39444c6d",
   "metadata": {},
   "outputs": [
    {
     "name": "stdout",
     "output_type": "stream",
     "text": [
      "+------------+----------------+--------+---------+-------+----------+----------+----------+----------+---------------+------+\n",
      "|NU_INSCRICAO|CO_MUNICIPIO_ESC|COR_RACA|     SEXO| ESCOLA|NU_NOTA_CN|NU_NOTA_CH|NU_NOTA_LC|NU_NOTA_MT|NU_NOTA_REDACAO| MEDIA|\n",
      "+------------+----------------+--------+---------+-------+----------+----------+----------+----------+---------------+------+\n",
      "|200001357436|         3304557|  Branca|masculino|Privada|     795.8|     839.5|     713.5|     975.0|            940|852.76|\n",
      "|200001850224|         3550308|  Branca| feminino|Privada|     800.8|     862.6|     716.9|     896.4|            980|851.34|\n",
      "|200006051511|         2507507|  Branca| feminino|Privada|     756.7|     819.2|     725.4|     952.4|           1000|850.74|\n",
      "|200005145247|         3530607| Amarela|masculino|Privada|     754.0|     838.0|     687.0|     975.0|            980| 846.8|\n",
      "|200001423299|         3106200|  Branca|masculino|Privada|     798.3|     742.7|     759.6|     964.4|            960| 845.0|\n",
      "|200001622477|         2927408|  Branca|masculino|Privada|     808.2|     818.2|     707.7|     910.4|            980| 844.9|\n",
      "|200005414259|         5300108|  Branca| feminino|Privada|     773.2|     839.5|     705.0|     923.8|            980| 844.3|\n",
      "|200001870736|         1501402|  Branca|masculino|Privada|     798.2|     791.6|     716.0|     933.0|            980|843.76|\n",
      "|200003054964|         2800308|   Parda|masculino|Privada|     800.4|     805.6|     718.5|     952.4|            940|843.38|\n",
      "|200001708370|            null|   Preta| feminino|Publica|     777.5|     823.4|     671.7|     963.7|            980|843.26|\n",
      "|200005870952|         3550308|  Branca|masculino|Privada|     821.2|     782.5|     702.3|     966.6|            940|842.52|\n",
      "|200001321917|         4113700|  Branca|masculino|Privada|     730.3|     839.5|     697.4|     959.9|            980|841.42|\n",
      "|200005345750|         3300308|  Branca| feminino|Privada|     755.8|     839.5|     706.5|     943.1|            960|840.98|\n",
      "|200004018126|         3304557|  Branca|masculino|Privada|     747.4|     843.7|     658.3|     975.0|            980|840.88|\n",
      "|200006472186|         4314902|  Branca|masculino|Privada|     787.3|     862.6|     689.1|     905.0|            960| 840.8|\n",
      "|200001917128|         1501402|  Branca|masculino|Privada|     831.5|     768.8|     710.8|     932.4|            960| 840.7|\n",
      "|200006106289|         4208906|  Branca|masculino|Privada|     809.3|     789.2|     714.1|     966.6|            920|839.84|\n",
      "|200002839543|         3148004|  Branca|masculino|Privada|     755.9|     809.2|     720.0|     948.4|            960| 838.7|\n",
      "|200005208379|         5103403|  Branca| feminino|Privada|     755.7|     792.6|     729.6|     952.4|            960|838.06|\n",
      "|200003478902|         3106200|  Branca| feminino|Privada|     793.5|     770.0|     683.8|     958.8|            980|837.22|\n",
      "+------------+----------------+--------+---------+-------+----------+----------+----------+----------+---------------+------+\n",
      "only showing top 20 rows\n",
      "\n"
     ]
    }
   ],
   "source": [
    "vw_enem.show()"
   ]
  },
  {
   "cell_type": "markdown",
   "id": "ecde677f",
   "metadata": {},
   "source": [
    "#### Qual a escola com a maior média de notas?"
   ]
  },
  {
   "cell_type": "code",
   "execution_count": 19,
   "id": "bbafeff0",
   "metadata": {},
   "outputs": [
    {
     "name": "stdout",
     "output_type": "stream",
     "text": [
      "+-------+-------+-------+\n",
      "| ESCOLA|   TIPO|  MEDIA|\n",
      "+-------+-------+-------+\n",
      "|3113701|Privada| 750.46|\n",
      "|3108909|Privada|741.615|\n",
      "|3550209|Privada| 731.36|\n",
      "|4121406|Privada|729.105|\n",
      "|3158904|Publica| 706.56|\n",
      "+-------+-------+-------+\n",
      "\n"
     ]
    }
   ],
   "source": [
    "# Qual a escola com a maior média de notas?\n",
    "queryEscolaMaiorMedia = \"\"\"\n",
    "    select\n",
    "    CO_MUNICIPIO_ESC as ESCOLA,\n",
    "    ESCOLA as TIPO,\n",
    "    avg(MEDIA) as MEDIA\n",
    "    from vw_enem\n",
    "    group by 1, 2\n",
    "    order by 3 desc\n",
    "    limit 5\n",
    "\"\"\"\n",
    "escola_maior_media = spark.sql(queryEscolaMaiorMedia)\n",
    "escola_maior_media.show()"
   ]
  },
  {
   "cell_type": "markdown",
   "id": "8d0f8bb9",
   "metadata": {},
   "source": [
    "#### Qual o aluno com a maior média de notas e o valor dessa média?"
   ]
  },
  {
   "cell_type": "code",
   "execution_count": 20,
   "id": "acce46a5",
   "metadata": {},
   "outputs": [
    {
     "name": "stdout",
     "output_type": "stream",
     "text": [
      "+------------+---------+--------+------+\n",
      "|NU_INSCRICAO|     SEXO|COR_RACA| MEDIA|\n",
      "+------------+---------+--------+------+\n",
      "|200001357436|masculino|  Branca|852.76|\n",
      "|200001850224| feminino|  Branca|851.34|\n",
      "|200006051511| feminino|  Branca|850.74|\n",
      "|200005145247|masculino| Amarela| 846.8|\n",
      "|200001423299|masculino|  Branca| 845.0|\n",
      "+------------+---------+--------+------+\n",
      "\n"
     ]
    }
   ],
   "source": [
    "# Qual o aluno com a maior média de notas e o valor dessa média?\n",
    "queryAlunoMaiorMedia = \"\"\"\n",
    "    select\n",
    "    NU_INSCRICAO,\n",
    "    SEXO,\n",
    "    COR_RACA,\n",
    "    MEDIA\n",
    "    from vw_enem\n",
    "    order by 4 desc\n",
    "    limit 5\n",
    "\"\"\"\n",
    "aluno_maior_media = spark.sql(queryAlunoMaiorMedia)\n",
    "aluno_maior_media.show()"
   ]
  },
  {
   "cell_type": "markdown",
   "id": "1351d619",
   "metadata": {},
   "source": [
    "#### Qual a média geral?"
   ]
  },
  {
   "cell_type": "code",
   "execution_count": 21,
   "id": "02899b3f",
   "metadata": {},
   "outputs": [
    {
     "name": "stdout",
     "output_type": "stream",
     "text": [
      "+-----------+\n",
      "|MEDIA_GERAL|\n",
      "+-----------+\n",
      "|     532.41|\n",
      "+-----------+\n",
      "\n"
     ]
    }
   ],
   "source": [
    "# Qual a média geral?\n",
    "queryMediaGeral = \"\"\"\n",
    "    select\n",
    "    round(avg(MEDIA),2) as MEDIA_GERAL\n",
    "    from vw_enem\n",
    "\"\"\"\n",
    "media_geral = spark.sql(queryMediaGeral)\n",
    "media_geral.show()"
   ]
  },
  {
   "cell_type": "markdown",
   "id": "a73cafca",
   "metadata": {},
   "source": [
    "#### Qual a média por disciplina?"
   ]
  },
  {
   "cell_type": "code",
   "execution_count": 22,
   "id": "a42411e0",
   "metadata": {},
   "outputs": [
    {
     "name": "stdout",
     "output_type": "stream",
     "text": [
      "+--------+--------+--------+--------+-------+\n",
      "|MEDIA_CN|MEDIA_CH|MEDIA_LC|MEDIA_MT|REDACAO|\n",
      "+--------+--------+--------+--------+-------+\n",
      "|  489.99|  514.37|  527.64|  524.01| 606.05|\n",
      "+--------+--------+--------+--------+-------+\n",
      "\n"
     ]
    }
   ],
   "source": [
    "# Qual a média por disciplina?\n",
    "queryMediaDisciplina = \"\"\"\n",
    "    select\n",
    "    round(avg(NU_NOTA_CN),2) as MEDIA_CN,\n",
    "    round(avg(NU_NOTA_CH),2) as MEDIA_CH,\n",
    "    round(avg(NU_NOTA_LC),2) as MEDIA_LC,\n",
    "    round(avg(NU_NOTA_MT),2) as MEDIA_MT,\n",
    "    round(avg(NU_NOTA_REDACAO),2) as REDACAO\n",
    "    from vw_enem\n",
    "\"\"\"\n",
    "media_disciplina = spark.sql(queryMediaDisciplina)\n",
    "media_disciplina.show()"
   ]
  },
  {
   "cell_type": "markdown",
   "id": "ed7cb5a3",
   "metadata": {},
   "source": [
    "#### Qual a média por Sexo?"
   ]
  },
  {
   "cell_type": "code",
   "execution_count": 23,
   "id": "76e09df5",
   "metadata": {},
   "outputs": [
    {
     "name": "stdout",
     "output_type": "stream",
     "text": [
      "+---------+------+\n",
      "|     SEXO| MEDIA|\n",
      "+---------+------+\n",
      "| feminino| 526.2|\n",
      "|masculino|541.55|\n",
      "+---------+------+\n",
      "\n"
     ]
    }
   ],
   "source": [
    "# Qual a média por Sexo?\n",
    "queryMediaSexo = \"\"\"\n",
    "    select\n",
    "    SEXO,\n",
    "    round(avg(MEDIA),2) as MEDIA\n",
    "    from vw_enem\n",
    "    group by 1\n",
    "    order by 2\n",
    "\"\"\"\n",
    "media_sexo = spark.sql(queryMediaSexo)\n",
    "media_sexo.show()"
   ]
  },
  {
   "cell_type": "markdown",
   "id": "423f9e40",
   "metadata": {},
   "source": [
    "#### Qual a média por Etnia?"
   ]
  },
  {
   "cell_type": "code",
   "execution_count": 24,
   "id": "022fa2cc",
   "metadata": {},
   "outputs": [
    {
     "name": "stdout",
     "output_type": "stream",
     "text": [
      "+------------+------+\n",
      "|    COR_RACA| MEDIA|\n",
      "+------------+------+\n",
      "|    Indigena|479.92|\n",
      "|       Preta|505.55|\n",
      "|       Parda|512.17|\n",
      "|Sem Resposta|526.45|\n",
      "|     Amarela|529.35|\n",
      "|      Branca| 560.3|\n",
      "+------------+------+\n",
      "\n"
     ]
    }
   ],
   "source": [
    "# Qual a média por Etnia?\n",
    "queryMediaEtnia = \"\"\"\n",
    "    select\n",
    "    COR_RACA,\n",
    "    round(avg(MEDIA),2) as MEDIA\n",
    "    from vw_enem\n",
    "    group by 1\n",
    "    order by 2\n",
    "\"\"\"\n",
    "media_etnia = spark.sql(queryMediaEtnia)\n",
    "media_etnia.show()"
   ]
  },
  {
   "cell_type": "markdown",
   "id": "57de6cf6",
   "metadata": {},
   "source": [
    "#### Qual o número total de Inscritos?"
   ]
  },
  {
   "cell_type": "code",
   "execution_count": 25,
   "id": "de43a09b",
   "metadata": {},
   "outputs": [
    {
     "name": "stdout",
     "output_type": "stream",
     "text": [
      "+---------------+\n",
      "|TOTAL_INSCRITOS|\n",
      "+---------------+\n",
      "|        5783109|\n",
      "+---------------+\n",
      "\n"
     ]
    }
   ],
   "source": [
    "# Qual o número total de Inscritos?\n",
    "queryTotalInscritos = \"\"\"\n",
    "    select\n",
    "    count(NU_INSCRICAO) as TOTAL_INSCRITOS\n",
    "    from enem\n",
    "\"\"\"\n",
    "total_inscritos = spark.sql(queryTotalInscritos)\n",
    "total_inscritos.show()"
   ]
  },
  {
   "cell_type": "markdown",
   "id": "f4478730",
   "metadata": {},
   "source": [
    "#### Qual o % de Ausentes?"
   ]
  },
  {
   "cell_type": "code",
   "execution_count": 26,
   "id": "3ba18c95",
   "metadata": {},
   "outputs": [
    {
     "name": "stdout",
     "output_type": "stream",
     "text": [
      "+-------------------+-------------------+\n",
      "|PERCENT_AUSENTES_CN|PERCENT_AUSENTES_CH|\n",
      "+-------------------+-------------------+\n",
      "|              55.06|               52.3|\n",
      "+-------------------+-------------------+\n",
      "\n"
     ]
    }
   ],
   "source": [
    "# Qual o % de Ausentes?\n",
    "queryPercentAusentes = \"\"\"\n",
    "    select\n",
    "    round(((AUSENTES_CN * 100) / TOTAL),2) as PERCENT_AUSENTES_CN,\n",
    "    round(((AUSENTES_CH * 100) / TOTAL),2) as PERCENT_AUSENTES_CH\n",
    "    from (\n",
    "        select\n",
    "        count(NU_INSCRICAO) as TOTAL,\n",
    "        sum(case when TP_PRESENCA_CN = 0 then 1 else 0 end) as AUSENTES_CN,\n",
    "        sum(case when TP_PRESENCA_CH = 0 then 1 else 0 end) as AUSENTES_CH,\n",
    "        sum(case when TP_PRESENCA_LC = 0 then 1 else 0 end) as AUSENTES_LC,\n",
    "        sum(case when TP_PRESENCA_MT = 0 then 1 else 0 end) as AUSENTES_MT\n",
    "        from enem\n",
    "    ) t\n",
    "\"\"\"\n",
    "ausentes = spark.sql(queryPercentAusentes)\n",
    "ausentes.show()"
   ]
  }
 ],
 "metadata": {
  "kernelspec": {
   "display_name": "Python 3 (ipykernel)",
   "language": "python",
   "name": "python3"
  },
  "language_info": {
   "codemirror_mode": {
    "name": "ipython",
    "version": 3
   },
   "file_extension": ".py",
   "mimetype": "text/x-python",
   "name": "python",
   "nbconvert_exporter": "python",
   "pygments_lexer": "ipython3",
   "version": "3.10.11"
  }
 },
 "nbformat": 4,
 "nbformat_minor": 5
}
